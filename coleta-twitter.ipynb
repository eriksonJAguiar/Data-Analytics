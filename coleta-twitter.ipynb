{
 "cells": [
  {
   "cell_type": "code",
   "execution_count": 1,
   "metadata": {
    "collapsed": true
   },
   "outputs": [],
   "source": [
    "#coletar dados do twitter utilizando o streaming com a api\n",
    "\n",
    "import tweepy\n",
    "import time\n",
    "from datetime import datetime\n",
    "import csv\n",
    "from unicodedata import normalize\n",
    "import pandas as pd\n",
    "import nltk"
   ]
  },
  {
   "cell_type": "code",
   "execution_count": 2,
   "metadata": {
    "collapsed": true
   },
   "outputs": [],
   "source": [
    "#Credencias de acesso App Twitter\n",
    "consumer_key = \"NBL0CtVrn2ajbpaGEWC1GBY2c\"\n",
    "consumer_secret = \"2F5Uz5VYg0ONu4xTYYZsWkAGfc3TYXCkXLCsXMJ1eCKOfhBTfS\"\n",
    "access_token = \"2345718031-we2K2PETQXkz7NCexjdGuvE2L2rnd5KfouzN3Up\"\n",
    "access_token_secret = \"aEQPKGifu1y29Wbh3u6Z0YIcjAsBC8VeD4Y75CDL2r12o\"\n",
    "\n",
    "#acessa OAuth\n",
    "# Referencia para API: https://dev.twitter.com/rest/reference\n",
    "authentication = tweepy.OAuthHandler(consumer_key, consumer_secret)\n",
    "authentication.set_access_token(access_token, access_token_secret)\n",
    "api = tweepy.API(authentication)\n"
   ]
  },
  {
   "cell_type": "code",
   "execution_count": 4,
   "metadata": {
    "collapsed": true
   },
   "outputs": [],
   "source": [
    "def write_file(datas,filename):\n",
    "\twith open('%s.csv'%(filename), 'a', newline='') as csvfile:\n",
    "\t\tspamwriter = csv.writer(csvfile, delimiter=';')\n",
    "\t\tfor row in datas:\n",
    "\t\t\tspamwriter.writerow(row)\n",
    "\n",
    "def write_dataframe(df,file):\n",
    "    df.to_csv('%s.csv'%file, mode='a', sep=';',index=False, header=False)\n",
    "\n",
    "def acents(text):\n",
    "\treturn normalize('NFKD',text).encode('ASCII','ignore').decode('ASCII')\n",
    "            \n",
    "def clean(dataframe):\n",
    "\tnew_df = []\n",
    "\tfor df in dataframe:\n",
    "\t\t#expr = re.sub(r\"http\\S+\", \"\", df)\n",
    "\t\t#expr = re.sub(r\"@\\S+\",\"\",expr)\n",
    "\t\texpr = acents(df)\n",
    "\t\tfiltrado = [w for w in nltk.regexp_tokenize(expr.lower(),\"\\w+\") if not w in nltk.corpus.stopwords.words('portuguese')]\n",
    "\t\tfrase = \"\"\n",
    "\t\tfor f in filtrado:\n",
    "\t\t\tfrase += f + \" \"\n",
    "\t\tnew_df.append(frase)\n",
    "\n",
    "\treturn new_df\n",
    "\n",
    "\n",
    "def get_tweets(tags):\n",
    "    tweets = []\n",
    "    day = []\n",
    "    for tg in tags:\n",
    "        results = api.search(q=tg)\n",
    "        for r in results:\n",
    "            #tweets.append(r['text'])\n",
    "            tweets.append(r.text)\n",
    "            day.append(datetime.now().strftime(\"%d-%m-%y\"))\n",
    "    \n",
    "    return tweets,day\n",
    "            \n",
    "    \n",
    "    "
   ]
  },
  {
   "cell_type": "code",
   "execution_count": 5,
   "metadata": {
    "scrolled": true
   },
   "outputs": [
    {
     "name": "stdout",
     "output_type": "stream",
     "text": [
      "['#HomofobiaEDoenca', '#GoodbyeShawn', '#LiveDepoisDas11', '#WitnessTourTOMORROW', '#CarinhaDeAnjo216', 'Deyverson', 'Egidio', 'FLANATICOS SEGUEM FLANATICOS', 'Pacaembu', '9 YEARS WITH CAS', 'Keno', 'One More Light', 'BeijoMalapia', 'Furacao Maria', 'Greta', 'Tche Tche', 'Prass', 'Thiago Silva', 'Coronel Marinho', 'O Dudu', 'Del Nero', 'Caldeirao', 'Arena MRV', 'Tomb Raider', 'Marcelo Oliveira', 'Monday Night Football', '#BTS_ALBUM_TODAY', '#MTVHitsDoAssobio', '#Malhacao', '#JBalvinNoTVZ', '#SouLuna2', '#DesengavetaNoGNT', '#PraMeNamorarTem', '#ClaudiaLeitteNoYouTube', '#UmCaminhoParaODestino016', '#WeLoveYouNinaDobrev', '#EmPauta', '#ESPNLeague', '#SegundaComTsunamiSDV', '#PROJECT', '#BrazilNeedsWynonnaEarp', '#HeLikeThat', '#FPNAQVM', '#livedesegunda', '#MFSDVamoMusicasPq', '#expedientefutebol', '#BAILEDODJHT', '#FestivalCheddar', '#GeorgeSmithDeservesTheWorld', '#CodeBlackNoSony']\n",
      "                                                tweets       day\n",
      "0    RT @bruna_limac: #HomofobiaÉDoença\\nDeixa a ge...  18-09-17\n",
      "1    É cada coisa absurda q a gente ve!!Olha o caos...  18-09-17\n",
      "2    Tipo d noticia q acaba cm seu dia. Podemos ser...  18-09-17\n",
      "3    RT @luscas: a tempestade já disse tudo por mim...  18-09-17\n",
      "4    RT @valehomossexual: O que isso interfere na s...  18-09-17\n",
      "5    RT @CamilaPitanga: Posso repetir: #HomofobiaÉd...  18-09-17\n",
      "6    RT @luscas: a tempestade já disse tudo por mim...  18-09-17\n",
      "7           #HomofobiaÉDoença 2017 is the new sec XVII  18-09-17\n",
      "8    RT @nawjoonie: primeiramente #HomofobiaÉDoença...  18-09-17\n",
      "9    RT @esuplicy: LGBTs não são doentes, #Homofobi...  18-09-17\n",
      "10   RT @CarolManfrin: O posicionamento do Conselho...  18-09-17\n",
      "11   #HomofobiaÉDoença e ninguém precisa ser gay pa...  18-09-17\n",
      "12   RT @IamDay__: Amar não é doença, doença é não ...  18-09-17\n",
      "13   RT @luscas: a tempestade já disse tudo por mim...  18-09-17\n",
      "14   RT @vaiIagay: Homossexualidade não é doença\\n\\...  18-09-17\n",
      "15   RT @HeyFanStore: Ele bem que podia ficar aqui ...  18-09-17\n",
      "16   RT @lostshawnm: Ele vai embora, mas as lembran...  18-09-17\n",
      "17   RT @ShawnzinhoRJ: Shawn quando estava no aerop...  18-09-17\n",
      "18   RT @mendestoessel: this. will. never. be. a. g...  18-09-17\n",
      "19   RT @razaoMendes: SHAWN COMPRA UMA CASA AQUI, A...  18-09-17\n",
      "20   RT @MendesArmyBraz: sobre ver o shawn indo emb...  18-09-17\n",
      "21   RT @magconfhelp: infelizmente é hora de dizer ...  18-09-17\n",
      "22   RT @SmileFor_1D: shawn mendes no brasil foi a ...  18-09-17\n",
      "23   RT @fuckshawnprm: Como n amar esse homem pqp? ...  18-09-17\n",
      "24   RT @VMINEXOZ: #GoodbyeShawn\\n\\nFez  história  ...  18-09-17\n",
      "25   Gente que gostava dele agora gosta mais ainda ...  18-09-17\n",
      "26   \"See you soon\"\\n\\nVOLTA MESMO SHAWN POR FAVOR ...  18-09-17\n",
      "27   RT @MendesVotosBR: A melhor coisa que poderia ...  18-09-17\n",
      "28   Thank you for coming to Brazil, opening the Sm...  18-09-17\n",
      "29   Que momento mais lindo foi esse, Brasil #Goodb...  18-09-17\n",
      "..                                                 ...       ...\n",
      "705  RT @NewHopeClub_BR: Realmente quero ver #Georg...  18-09-17\n",
      "706                       #GeorgeSmithDeservesTheWorld  18-09-17\n",
      "707  RT @NewHopeClub_BR: #GeorgeSmithDeservesTheWor...  18-09-17\n",
      "708  RT @WANGPATRONUS: ELE TBM MERECE A @nhcselena ...  18-09-17\n",
      "709  RT @nhcjealous: o george é mt precioso pra ser...  18-09-17\n",
      "710  RT @NewHopeClub_BR: Usem a tag #GeorgeSmithDes...  18-09-17\n",
      "711  RT @NewHopeClub_BR: ❤️ #GeorgeSmithDeservesThe...  18-09-17\n",
      "712  Now I Will call him Jod #GeorgeSmithDeservesTh...  18-09-17\n",
      "713  RT @nhcjealous: o george é mt precioso pra ser...  18-09-17\n",
      "714  ELE TBM MERECE A @nhcselena #GeorgeSmithDeserv...  18-09-17\n",
      "715  RT @JadeBennett_99: #GeorgeSmithDeservesTheWor...  18-09-17\n",
      "716  RT @justabadgirlxo: Hello jod @NewHopeGeorge #...  18-09-17\n",
      "717  RT @justabadgirlxo: Hello jod @NewHopeGeorge #...  18-09-17\n",
      "718  Sexy hahaha  #GeorgeSmithDeservesTheWorld http...  18-09-17\n",
      "719  RT @rowncarpentex: o viciado do role  #GeorgeS...  18-09-17\n",
      "720  Com tantas emoções, chegamos ao fim de mais um...  18-09-17\n",
      "721  RT @Taliban0202: @canalsony Eu tô chorando jun...  18-09-17\n",
      "722                to chorando aaaaaa #CodeBlackNoSony  18-09-17\n",
      "723  @canalsony Eu tô chorando junto aqui #CodeBlac...  18-09-17\n",
      "724  E ainda tem essa revelação? Filhos gêmeos e um...  18-09-17\n",
      "725  \"Pai, eu estou aqui. Eu vim ontem à noite\" #Co...  18-09-17\n",
      "726          #CodeBlackNoSony aí meu jesuis pai eterno  18-09-17\n",
      "727  RT @EdmeiaMaura: Que final de episódio é esse?...  18-09-17\n",
      "728  #CodeBlackNoSony MERDA CANAL SONY EU ESTAVA CH...  18-09-17\n",
      "729         Que episódio lindo! &lt;3 #CodeBlackNoSony  18-09-17\n",
      "730         #CodeBlackNoSony ME DIZ QUE ISSO NÃO É VDD  18-09-17\n",
      "731  Que final de episódio é esse? @canalsony #Code...  18-09-17\n",
      "732  #CodeBlackNoSony MEU DEUS DO CÉU QUE EP FOI ES...  18-09-17\n",
      "733                 #CodeBlackNoSony TÔ CHORANDO TANTO  18-09-17\n",
      "734    LOGO FIX YOU MEN EU VOU CHORAR #CodeBlackNoSony  18-09-17\n",
      "\n",
      "[735 rows x 2 columns]\n"
     ]
    }
   ],
   "source": [
    "if __name__ == '__main__':\n",
    "\n",
    "\n",
    "\ttags = []\n",
    "\tline = []\n",
    "\tdf = pd.DataFrame()\n",
    "\ttrends = api.trends_place(23424768)\n",
    "\tdata = trends[0]\n",
    "\ttrend = data['trends']\n",
    "\tfor item in trend:\n",
    "\t\tname = str(item['name'])\n",
    "\t\tname = acents(name)\n",
    "\t\tline  = (str(datetime.now()),name)\n",
    "\t\ttags.append(name)\n",
    "\n",
    "\tprint(tags)\n",
    "\tdf['tweets'], df['day'] = get_tweets(tags)\n",
    "\t#df['tweets'] = clean(df['tweets'])\n",
    "\tprint(df)\n",
    "\t#write_file(line,'tags')\n",
    "\twrite_dataframe(df,'tweets')\n"
   ]
  },
  {
   "cell_type": "code",
   "execution_count": null,
   "metadata": {
    "collapsed": true
   },
   "outputs": [],
   "source": []
  }
 ],
 "metadata": {
  "kernelspec": {
   "display_name": "Python 3",
   "language": "python",
   "name": "python3"
  },
  "language_info": {
   "codemirror_mode": {
    "name": "ipython",
    "version": 3
   },
   "file_extension": ".py",
   "mimetype": "text/x-python",
   "name": "python",
   "nbconvert_exporter": "python",
   "pygments_lexer": "ipython3",
   "version": "3.5.2+"
  }
 },
 "nbformat": 4,
 "nbformat_minor": 2
}
