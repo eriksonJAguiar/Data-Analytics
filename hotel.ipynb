{
 "cells": [
  {
   "cell_type": "code",
   "execution_count": 108,
   "metadata": {
    "collapsed": true
   },
   "outputs": [],
   "source": [
    "import pandas as pd\n",
    "import numpy as np\n",
    "from sklearn.preprocessing import LabelEncoder\n",
    "from sklearn import tree"
   ]
  },
  {
   "cell_type": "code",
   "execution_count": 109,
   "metadata": {},
   "outputs": [],
   "source": [
    "def read_csv(file):\n",
    "    df = pd.DataFrame.from_csv('%s.csv'%(file),sep=';',index_col=0,encoding ='ISO-8859-1')\n",
    "    df = df.reset_index()\n",
    "    \n",
    "    return df\n",
    "    \n",
    "def convert_dataset(df):\n",
    "    \n",
    "    label_enco = LabelEncoder()\n",
    "    \n",
    "    \n",
    "    df['País'] = label_enco.fit_transform(df['País'])\n",
    "    df['Tipo-viagem'] = label_enco.fit_transform(df['Tipo-viagem'])\n",
    "    df['Piscina'] = label_enco.fit_transform(df['Piscina'])\n",
    "    df['Academia'] = label_enco.fit_transform(df['Academia'])\n",
    "    df['Tenis'] = label_enco.fit_transform(df['Tenis'])\n",
    "    df['Spa'] = label_enco.fit_transform(df['Spa'])\n",
    "    df['Casino'] = label_enco.fit_transform(df['Casino'])\n",
    "    df['Internet'] = label_enco.fit_transform(df['Internet'])\n",
    "    df['Hotel'] = label_enco.fit_transform(df['Hotel'])\n",
    "    \n",
    "    \n",
    "    return df\n",
    "\n",
    "def convert_input(value):\n",
    "     \n",
    "    label_enco = LabelEncoder()\n",
    "    \n",
    "    #label_enco.fit_transform()\n",
    "\n",
    "def inverse_result(result):\n",
    "    \n",
    "    label_enco = LabelEncoder()\n",
    "    \n",
    "    label_enco.fit(['Circus Circus Hotel & Casino Las Vegas','Excalibur Hotel & Casino','Monte Carlo Resort&Casino','Treasure Island- TI Hotel & Casino',\n",
    "                    'Tropicana Las Vegas - A Double Tree by Hilton Hotel','Caesars Palace','The Cosmopolitan Las Vegas','The Palazzo Resort Hotel Casino',\n",
    "                   'Wynn Las Vegas','Trump International Hotel Las Vegas','The Cromwell','Encore at wynn Las Vegas','Hilton Grand Vacations on the Boulevard',\n",
    "                   \"Marriott's Grand Chateau\",'Tuscany Las Vegas Suites & Casino','Hilton Grand Vacations at the Flamingo','Wyndham Grand Desert',\n",
    "                   'The Venetian Las Vegas Hotel','Bellagio Las Vegas','Paris Las Vegas','The Westin las Vegas Hotel Casino & Spa'])\n",
    "    \n",
    "    r = label_enco.inverse_transform(result)\n",
    "    \n",
    "    return r\n",
    "\n",
    "def predict_tree(X,y,input_):\n",
    "    \n",
    "    clf = tree.DecisionTreeClassifier(criterion='gini', splitter='best')\n",
    "    \n",
    "    pred = clf.fit(X,y).predict(input_)\n",
    "    \n",
    "    return inverse_result(pred)\n",
    "\n",
    "def split_dataset(df):\n",
    "    \n",
    "    new_df = pd.DataFrame()\n",
    "    \n",
    "    new_df['País'] = df['País']\n",
    "    new_df['Reviews'] = df['Reviews']\n",
    "    new_df['Hotel-reviews'] = df['Hotel-reviews']\n",
    "    new_df['Votes'] = df['Votes']\n",
    "    new_df['Score'] = df['Score']\n",
    "    new_df['Tipo-viagem'] = df['Tipo-viagem']\n",
    "    new_df['Piscina'] = df['Piscina']\n",
    "    new_df['Academia'] = df['Academia']\n",
    "    new_df['Tenis'] = df['Tenis']\n",
    "    new_df['Spa'] = df['Spa']\n",
    "    new_df['Casino'] = df['Casino']\n",
    "    new_df['Internet'] = df['Internet']\n",
    "    new_df['Estrelas'] = df['Estrelas']\n",
    "    \n",
    "    train = new_df.values\n",
    "    \n",
    "    target = df['Hotel'].values\n",
    "    \n",
    "    return train,target\n",
    "\n",
    "def main():\n",
    "    df = read_csv('hotel')\n",
    "    df = convert_dataset(df)\n",
    "    train,target = split_dataset(df)\n",
    "    pred = predict_tree(train,target,[1,36,5,20,4,1,1,0,1,1,0,0,4])\n",
    "    \n",
    "    print(pred)\n",
    "    "
   ]
  },
  {
   "cell_type": "code",
   "execution_count": 110,
   "metadata": {
    "scrolled": false
   },
   "outputs": [
    {
     "name": "stdout",
     "output_type": "stream",
     "text": [
      "['Wyndham Grand Desert']\n"
     ]
    },
    {
     "name": "stderr",
     "output_type": "stream",
     "text": [
      "/usr/local/lib/python3.5/dist-packages/sklearn/utils/validation.py:395: DeprecationWarning: Passing 1d arrays as data is deprecated in 0.17 and will raise ValueError in 0.19. Reshape your data either using X.reshape(-1, 1) if your data has a single feature or X.reshape(1, -1) if it contains a single sample.\n",
      "  DeprecationWarning)\n"
     ]
    }
   ],
   "source": [
    "if __name__ == '__main__':\n",
    "    \n",
    "    main()\n",
    "    \n",
    "    \n",
    "    "
   ]
  },
  {
   "cell_type": "code",
   "execution_count": null,
   "metadata": {
    "collapsed": true
   },
   "outputs": [],
   "source": []
  },
  {
   "cell_type": "code",
   "execution_count": null,
   "metadata": {
    "collapsed": true
   },
   "outputs": [],
   "source": []
  },
  {
   "cell_type": "code",
   "execution_count": null,
   "metadata": {
    "collapsed": true
   },
   "outputs": [],
   "source": []
  }
 ],
 "metadata": {
  "kernelspec": {
   "display_name": "Python 3",
   "language": "python",
   "name": "python3"
  },
  "language_info": {
   "codemirror_mode": {
    "name": "ipython",
    "version": 3
   },
   "file_extension": ".py",
   "mimetype": "text/x-python",
   "name": "python",
   "nbconvert_exporter": "python",
   "pygments_lexer": "ipython3",
   "version": "3.5.2+"
  }
 },
 "nbformat": 4,
 "nbformat_minor": 2
}
