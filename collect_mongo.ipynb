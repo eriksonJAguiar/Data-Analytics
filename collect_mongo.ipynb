{
 "cells": [
  {
   "cell_type": "code",
   "execution_count": 8,
   "metadata": {},
   "outputs": [],
   "source": [
    "from pymongo import MongoClient\n",
    "from datetime import datetime\n",
    "import nltk\n",
    "import pandas as pd\n",
    "import numpy as np"
   ]
  },
  {
   "cell_type": "code",
   "execution_count": 18,
   "metadata": {
    "collapsed": true
   },
   "outputs": [],
   "source": [
    "#Faz a Normalização do texto            \n",
    "def clean(dataframe):\n",
    "\tnew_df = []\n",
    "\tfor df in dataframe:\n",
    "\t\t#expr = re.sub(r\"http\\S+\", \"\", df)\n",
    "\t\texpr = normalize('NFKD',df).encode('ASCII','ignore').decode('ASCII')\n",
    "\t\tfiltrado = [w for w in nltk.regexp_tokenize(expr.lower(),\"\\w+\") if not w in nltk.corpus.stopwords.words('portuguese')]\n",
    "\t\tfrase = \"\"\n",
    "\t\tfor f in filtrado:\n",
    "\t\t\tfrase += f + \" \"\n",
    "\t\tnew_df.append(frase)\n",
    "\n",
    "\treturn new_df\n",
    "\n",
    "def save(collection,text,date):\n",
    "\tcollection.insert_one({'text':text,'date': date})\n",
    "\n",
    "def init_mongo(dataBase,collection,connection):\n",
    "\ttry:\n",
    "\t\tclient = MongoClient(connection)\n",
    "\n",
    "\t\tdb = client[dataBase]\n",
    "\n",
    "\t\tresult = db[collection]\n",
    "\n",
    "\t\treturn result\n",
    "\n",
    "\texcept Exception as inst:\n",
    "\t\tprint(type(inst))\n",
    "\n",
    "def get_all_tweets(collection):\n",
    "    return collection.find()\n",
    "\n",
    "def get_n_tweets(collection,n):\n",
    "    return collection.find().sort('text',1).limit(n)"
   ]
  },
  {
   "cell_type": "code",
   "execution_count": 25,
   "metadata": {},
   "outputs": [
    {
     "name": "stdout",
     "output_type": "stream",
     "text": [
      "Olá mundo, 15-10-17\n"
     ]
    }
   ],
   "source": [
    "if __name__ == '__main__':\n",
    "    \n",
    "    collection = init_mongo('bigData','tweets','localhost:27017')\n",
    "    \n",
    "    #save(collection,'Olá mundo',datetime.now().strftime(\"%d-%m-%y\"))\n",
    "    \n",
    "    tweets = get_all_tweets(collection)\n",
    "    \n",
    "    for document in tweets:\n",
    "        print(\"%s, %s\"%(document['text'], document['date']))\n",
    "    "
   ]
  },
  {
   "cell_type": "code",
   "execution_count": null,
   "metadata": {
    "collapsed": true
   },
   "outputs": [],
   "source": []
  }
 ],
 "metadata": {
  "kernelspec": {
   "display_name": "Python 3",
   "language": "python",
   "name": "python3"
  },
  "language_info": {
   "codemirror_mode": {
    "name": "ipython",
    "version": 3
   },
   "file_extension": ".py",
   "mimetype": "text/x-python",
   "name": "python",
   "nbconvert_exporter": "python",
   "pygments_lexer": "ipython3",
   "version": "3.5.2+"
  }
 },
 "nbformat": 4,
 "nbformat_minor": 2
}
