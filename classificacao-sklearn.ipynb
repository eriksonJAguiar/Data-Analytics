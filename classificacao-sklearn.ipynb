{
 "cells": [
  {
   "cell_type": "code",
   "execution_count": 40,
   "metadata": {
    "collapsed": true
   },
   "outputs": [],
   "source": [
    "from sklearn.datasets import load_iris\n",
    "from sklearn.model_selection import train_test_split\n",
    "from sklearn.metrics import accuracy_score\n",
    "from sklearn import svm\n",
    "from sklearn.linear_model import Perceptron\n",
    "import numpy as np\n",
    "import pandas as pd"
   ]
  },
  {
   "cell_type": "code",
   "execution_count": 41,
   "metadata": {},
   "outputs": [],
   "source": [
    "def mensure(X,y,classifier):\n",
    "    X_train, X_test, y_train, y_test = train_test_split(X, y, random_state=0)\n",
    "    y_pred = classifier.fit(X_train, y_train).predict(X_test)\n",
    "    ac = accuracy_score(y_test, y_pred)\n",
    "    \n",
    "    return ac\n",
    "\n",
    "def predict(X,y,values):\n",
    "    test = np.array(values)\n",
    "    y_pred = classifier.fit(X, y).predict(test)\n",
    "    \n",
    "    return y_pred"
   ]
  },
  {
   "cell_type": "code",
   "execution_count": 48,
   "metadata": {},
   "outputs": [
    {
     "name": "stdout",
     "output_type": "stream",
     "text": [
      "SVM ac = 0.947368\n",
      "Perceptron ac = 0.947368\n"
     ]
    }
   ],
   "source": [
    "if __name__ == '__main__':\n",
    "    \n",
    "    data = load_iris()\n",
    "    iris_df = pd.DataFrame()\n",
    "    X = data.data\n",
    "    y = data.target\n",
    "    class_names = data.target_names\n",
    "    classifier = svm.SVC(kernel='linear', C=100)\n",
    "    ac = mensure(X,y,classifier)\n",
    "    cl = Perceptron(n_iter=150)\n",
    "    ac2 = mensure(X,y,cl)\n",
    "    print(\"SVM ac = %f\"%ac)\n",
    "    print(\"Perceptron ac = %f\"%ac2)"
   ]
  },
  {
   "cell_type": "code",
   "execution_count": null,
   "metadata": {
    "collapsed": true
   },
   "outputs": [],
   "source": []
  },
  {
   "cell_type": "code",
   "execution_count": null,
   "metadata": {
    "collapsed": true
   },
   "outputs": [],
   "source": []
  }
 ],
 "metadata": {
  "kernelspec": {
   "display_name": "Python 3",
   "language": "python",
   "name": "python3"
  },
  "language_info": {
   "codemirror_mode": {
    "name": "ipython",
    "version": 3
   },
   "file_extension": ".py",
   "mimetype": "text/x-python",
   "name": "python",
   "nbconvert_exporter": "python",
   "pygments_lexer": "ipython3",
   "version": "3.5.2+"
  }
 },
 "nbformat": 4,
 "nbformat_minor": 2
}
